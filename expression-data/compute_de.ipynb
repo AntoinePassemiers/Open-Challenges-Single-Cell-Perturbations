{
 "cells": [
  {
   "cell_type": "code",
   "execution_count": 1,
   "id": "edd8cd7a",
   "metadata": {},
   "outputs": [
    {
     "name": "stdout",
     "output_type": "stream",
     "text": [
      "Requirement already satisfied: anndata in /opt/saturncloud/envs/saturn/lib/python3.9/site-packages (0.10.2)\n",
      "Requirement already satisfied: scanpy in /opt/saturncloud/envs/saturn/lib/python3.9/site-packages (1.9.5)\n",
      "Requirement already satisfied: array-api-compat in /opt/saturncloud/envs/saturn/lib/python3.9/site-packages (from anndata) (1.4)\n",
      "Requirement already satisfied: exceptiongroup in /opt/saturncloud/envs/saturn/lib/python3.9/site-packages (from anndata) (1.1.3)\n",
      "Requirement already satisfied: h5py>=3 in /opt/saturncloud/envs/saturn/lib/python3.9/site-packages (from anndata) (3.10.0)\n",
      "Requirement already satisfied: natsort in /opt/saturncloud/envs/saturn/lib/python3.9/site-packages (from anndata) (8.4.0)\n",
      "Requirement already satisfied: numpy>=1.16.5 in /opt/saturncloud/envs/saturn/lib/python3.9/site-packages (from anndata) (1.21.6)\n",
      "Requirement already satisfied: packaging>=20 in /opt/saturncloud/envs/saturn/lib/python3.9/site-packages (from anndata) (23.2)\n",
      "Requirement already satisfied: pandas!=2.1.0rc0,>=1.1.1 in /opt/saturncloud/envs/saturn/lib/python3.9/site-packages (from anndata) (1.4.2)\n",
      "Requirement already satisfied: scipy>1.4 in /opt/saturncloud/envs/saturn/lib/python3.9/site-packages (from anndata) (1.11.2)\n",
      "Requirement already satisfied: matplotlib>=3.4 in /opt/saturncloud/envs/saturn/lib/python3.9/site-packages (from scanpy) (3.5.2)\n",
      "Requirement already satisfied: seaborn in /opt/saturncloud/envs/saturn/lib/python3.9/site-packages (from scanpy) (0.13.0)\n",
      "Requirement already satisfied: tqdm in /opt/saturncloud/envs/saturn/lib/python3.9/site-packages (from scanpy) (4.66.1)\n",
      "Requirement already satisfied: scikit-learn>=0.24 in /opt/saturncloud/envs/saturn/lib/python3.9/site-packages (from scanpy) (1.3.0)\n",
      "Requirement already satisfied: statsmodels>=0.10.0rc2 in /opt/saturncloud/envs/saturn/lib/python3.9/site-packages (from scanpy) (0.14.0)\n",
      "Requirement already satisfied: patsy in /opt/saturncloud/envs/saturn/lib/python3.9/site-packages (from scanpy) (0.5.3)\n",
      "Requirement already satisfied: networkx>=2.3 in /opt/saturncloud/envs/saturn/lib/python3.9/site-packages (from scanpy) (3.1)\n",
      "Requirement already satisfied: joblib in /opt/saturncloud/envs/saturn/lib/python3.9/site-packages (from scanpy) (1.3.2)\n",
      "Requirement already satisfied: numba>=0.41.0 in /opt/saturncloud/envs/saturn/lib/python3.9/site-packages (from scanpy) (0.57.1)\n",
      "Requirement already satisfied: umap-learn>=0.3.10 in /opt/saturncloud/envs/saturn/lib/python3.9/site-packages (from scanpy) (0.5.4)\n",
      "Requirement already satisfied: session-info in /opt/saturncloud/envs/saturn/lib/python3.9/site-packages (from scanpy) (1.0.0)\n",
      "Requirement already satisfied: cycler>=0.10 in /opt/saturncloud/envs/saturn/lib/python3.9/site-packages (from matplotlib>=3.4->scanpy) (0.11.0)\n",
      "Requirement already satisfied: fonttools>=4.22.0 in /opt/saturncloud/envs/saturn/lib/python3.9/site-packages (from matplotlib>=3.4->scanpy) (4.43.0)\n",
      "Requirement already satisfied: kiwisolver>=1.0.1 in /opt/saturncloud/envs/saturn/lib/python3.9/site-packages (from matplotlib>=3.4->scanpy) (1.4.5)\n",
      "Requirement already satisfied: pillow>=6.2.0 in /opt/saturncloud/envs/saturn/lib/python3.9/site-packages (from matplotlib>=3.4->scanpy) (9.1.1)\n",
      "Requirement already satisfied: pyparsing>=2.2.1 in /opt/saturncloud/envs/saturn/lib/python3.9/site-packages (from matplotlib>=3.4->scanpy) (3.1.1)\n",
      "Requirement already satisfied: python-dateutil>=2.7 in /opt/saturncloud/envs/saturn/lib/python3.9/site-packages (from matplotlib>=3.4->scanpy) (2.8.2)\n",
      "Requirement already satisfied: llvmlite<0.41,>=0.40.0dev0 in /opt/saturncloud/envs/saturn/lib/python3.9/site-packages (from numba>=0.41.0->scanpy) (0.40.1)\n",
      "Requirement already satisfied: pytz>=2020.1 in /opt/saturncloud/envs/saturn/lib/python3.9/site-packages (from pandas!=2.1.0rc0,>=1.1.1->anndata) (2023.3.post1)\n",
      "Requirement already satisfied: threadpoolctl>=2.0.0 in /opt/saturncloud/envs/saturn/lib/python3.9/site-packages (from scikit-learn>=0.24->scanpy) (3.2.0)\n",
      "Requirement already satisfied: six in /opt/saturncloud/envs/saturn/lib/python3.9/site-packages (from patsy->scanpy) (1.16.0)\n",
      "Requirement already satisfied: pynndescent>=0.5 in /opt/saturncloud/envs/saturn/lib/python3.9/site-packages (from umap-learn>=0.3.10->scanpy) (0.5.10)\n",
      "Requirement already satisfied: tbb>=2019.0 in /opt/saturncloud/envs/saturn/lib/python3.9/site-packages (from umap-learn>=0.3.10->scanpy) (2021.10.0)\n",
      "Requirement already satisfied: stdlib-list in /opt/saturncloud/envs/saturn/lib/python3.9/site-packages (from session-info->scanpy) (0.9.0)\n"
     ]
    }
   ],
   "source": [
    "!pip install anndata scanpy"
   ]
  },
  {
   "cell_type": "code",
   "execution_count": 2,
   "id": "77759971-e331-4a96-b1e0-37b148f1ea5f",
   "metadata": {
    "tags": []
   },
   "outputs": [],
   "source": [
    "import pandas as pd\n",
    "import numpy as np\n",
    "import sklearn\n",
    "import scipy\n",
    "\n",
    "import anndata as ad\n",
    "import scanpy as sc\n",
    "\n",
    "from dask import delayed\n",
    "from dask.distributed import Client, LocalCluster\n",
    "\n",
    "import os, binascii"
   ]
  },
  {
   "cell_type": "code",
   "execution_count": 3,
   "id": "6f5f0ca3-c6f5-4b89-9501-a8f6964da587",
   "metadata": {},
   "outputs": [
    {
     "name": "stdout",
     "output_type": "stream",
     "text": [
      "download: s3://saturn-kaggle-datasets/open-problems-single-cell-perturbations-optional/train_or_control_bulk_by_cell_type_adata.h5ad to ./train_or_control_bulk_by_cell_type_adata.h5ad\n",
      "download: s3://saturn-kaggle-datasets/open-problems-single-cell-perturbations-optional/lincs_id_compound_mapping.parquet to ./lincs_id_compound_mapping.parquet\n"
     ]
    }
   ],
   "source": [
    "! aws s3 cp s3://saturn-kaggle-datasets/open-problems-single-cell-perturbations-optional/train_or_control_bulk_by_cell_type_adata.h5ad --no-sign-request .\n",
    "! aws s3 cp s3://saturn-kaggle-datasets/open-problems-single-cell-perturbations-optional/lincs_id_compound_mapping.parquet --no-sign-request ."
   ]
  },
  {
   "cell_type": "markdown",
   "id": "b9fa12aa-f694-4ddc-9efa-c16b7e4a587e",
   "metadata": {},
   "source": [
    "## Loading expression data"
   ]
  },
  {
   "cell_type": "markdown",
   "id": "7c8e5357-5182-4d2a-868c-f5d987c83bcd",
   "metadata": {},
   "source": [
    "Here we load expression data (long format) and converting it into an AnnData object (wide sparse format).\n",
    "\n",
    "You'll need to increase your instance RAM to at least 64 GB."
   ]
  },
  {
   "cell_type": "code",
   "execution_count": 4,
   "id": "f26f2b47-9346-40a0-8152-e3995be811a1",
   "metadata": {
    "tags": []
   },
   "outputs": [
    {
     "name": "stderr",
     "output_type": "stream",
     "text": [
      "/opt/saturncloud/envs/saturn/lib/python3.9/site-packages/anndata/_core/anndata.py:522: FutureWarning: The dtype argument is deprecated and will be removed in late 2024.\n",
      "  warnings.warn(\n"
     ]
    }
   ],
   "source": [
    "data_dir = '.'\n",
    "adata_train_df = pd.read_parquet(os.path.join(data_dir, 'adata_train.parquet'))\n",
    "adata_obs_meta_df = pd.read_csv(os.path.join(data_dir, 'adata_obs_meta.csv'))\n",
    "\n",
    "adata_train_df['obs_id'] = adata_train_df['obs_id'].astype('category')\n",
    "adata_train_df['gene'] = adata_train_df['gene'].astype('category')\n",
    "\n",
    "obs_ids = adata_train_df['obs_id'].unique()\n",
    "obs_id_map = dict(zip(obs_ids, range(len(obs_ids))))\n",
    "\n",
    "genes = adata_train_df['gene'].unique()\n",
    "gene_map = dict(zip(genes, range(len(genes))))\n",
    "\n",
    "adata_train_df['obs_index'] = adata_train_df['obs_id'].map(obs_id_map)\n",
    "adata_train_df['gene_index'] = adata_train_df['gene'].map(gene_map)\n",
    "\n",
    "normalized_counts_values = adata_train_df['normalized_count'].to_numpy()\n",
    "counts_values = adata_train_df['count'].to_numpy()\n",
    "\n",
    "row_indices = adata_train_df['obs_index'].to_numpy()\n",
    "col_indices = adata_train_df['gene_index'].to_numpy()\n",
    "\n",
    "counts = scipy.sparse.csr_matrix((counts_values, (row_indices, col_indices)))\n",
    "\n",
    "obs_df = pd.Series(obs_ids, name='obs_id').to_frame()\n",
    "var_df = pd.Series(genes, name='gene').to_frame()\n",
    "\n",
    "obs_df = obs_df.set_index('obs_id')\n",
    "var_df = var_df.set_index('gene')\n",
    "\n",
    "obs_df.index = obs_df.index.astype('str')\n",
    "var_df.index = var_df.index.astype('str')\n",
    "\n",
    "counts_adata = ad.AnnData(\n",
    "    X=counts,\n",
    "    obs=obs_df,\n",
    "    var=var_df,\n",
    "    dtype=np.uint32,\n",
    ")\n",
    "\n",
    "index_ordering_before_join = counts_adata.obs.index\n",
    "counts_adata.obs = counts_adata.obs.join(adata_obs_meta_df.set_index('obs_id'))\n",
    "index_ordering_after_join = counts_adata.obs.index\n",
    "assert (index_ordering_before_join == index_ordering_after_join).all()"
   ]
  },
  {
   "cell_type": "markdown",
   "id": "db87f685-c183-4d5a-bc22-9185113f2222",
   "metadata": {
    "execution": {
     "iopub.execute_input": "2023-09-22T17:26:10.549113Z",
     "iopub.status.busy": "2023-09-22T17:26:10.548724Z",
     "iopub.status.idle": "2023-09-22T17:26:10.552111Z",
     "shell.execute_reply": "2023-09-22T17:26:10.551571Z",
     "shell.execute_reply.started": "2023-09-22T17:26:10.549088Z"
    },
    "tags": []
   },
   "source": [
    "## Pseudobulking counts by cell type"
   ]
  },
  {
   "cell_type": "code",
   "execution_count": 5,
   "id": "2977f6ce-0354-45a2-9610-22aff6781dd1",
   "metadata": {
    "tags": []
   },
   "outputs": [],
   "source": [
    "from scipy import sparse\n",
    "\n",
    "def sum_by(adata: ad.AnnData, col: str) -> ad.AnnData:\n",
    "    \"\"\"\n",
    "    Adapted from this forum post: \n",
    "    https://discourse.scverse.org/t/group-sum-rows-based-on-jobs-feature/371/4\n",
    "    \"\"\"\n",
    "    \n",
    "    assert pd.api.types.is_categorical_dtype(adata.obs[col])\n",
    "\n",
    "    # sum `.X` entries for each unique value in `col`\n",
    "    cat = adata.obs[col].values\n",
    "    indicator = sparse.coo_matrix(\n",
    "        (\n",
    "            np.broadcast_to(True, adata.n_obs),\n",
    "            (cat.codes, np.arange(adata.n_obs))\n",
    "        ),\n",
    "        shape=(len(cat.categories), adata.n_obs),\n",
    "    )\n",
    "    sum_adata = ad.AnnData(\n",
    "        indicator @ adata.X,\n",
    "        var=adata.var,\n",
    "        obs=pd.DataFrame(index=cat.categories),\n",
    "        dtype=adata.X.dtype,\n",
    "    )\n",
    "    \n",
    "    # copy over `.obs` values that have a one-to-one-mapping with `.obs[col]`\n",
    "    obs_cols = adata.obs.columns\n",
    "    obs_cols = list(set(adata.obs.columns) - set([col]))\n",
    "    \n",
    "    one_to_one_mapped_obs_cols = []\n",
    "    nunique_in_col = adata.obs[col].nunique()\n",
    "    for other_col in obs_cols:\n",
    "        if len(adata.obs[[col, other_col]].drop_duplicates()) == nunique_in_col:\n",
    "            one_to_one_mapped_obs_cols.append(other_col)\n",
    "\n",
    "    joining_df = adata.obs[[col] + one_to_one_mapped_obs_cols].drop_duplicates().set_index(col)\n",
    "    assert (sum_adata.obs.index == sum_adata.obs.join(joining_df).index).all()\n",
    "    sum_adata.obs = sum_adata.obs.join(joining_df)\n",
    "    sum_adata.obs.index.name = col\n",
    "    sum_adata.obs = sum_adata.obs.reset_index()\n",
    "    sum_adata.obs.index = sum_adata.obs.index.astype('str')\n",
    "\n",
    "    return sum_adata"
   ]
  },
  {
   "cell_type": "code",
   "execution_count": 6,
   "id": "a8c6764a-ac6b-4075-8290-480ce42edcda",
   "metadata": {
    "tags": []
   },
   "outputs": [
    {
     "name": "stderr",
     "output_type": "stream",
     "text": [
      "/opt/saturncloud/envs/saturn/lib/python3.9/site-packages/anndata/_core/anndata.py:522: FutureWarning: The dtype argument is deprecated and will be removed in late 2024.\n",
      "  warnings.warn(\n"
     ]
    }
   ],
   "source": [
    "counts_adata.obs['plate_well_cell_type'] = counts_adata.obs['plate_name'].astype('str') \\\n",
    "    + '_' + counts_adata.obs['well'].astype('str') \\\n",
    "    + '_' + counts_adata.obs['cell_type'].astype('str')\n",
    "counts_adata.obs['plate_well_cell_type'] = counts_adata.obs['plate_well_cell_type'].astype('category')\n",
    "\n",
    "bulk_adata = sum_by(counts_adata, 'plate_well_cell_type')\n",
    "bulk_adata.obs = bulk_adata.obs.drop(columns=['plate_well_cell_type'])\n",
    "bulk_adata.X = np.array(bulk_adata.X.todense())\n",
    "bulk_adata.X = bulk_adata.X.astype('float64')\n",
    "bulk_adata = bulk_adata.copy()"
   ]
  },
  {
   "cell_type": "code",
   "execution_count": 7,
   "id": "f153fd32-8881-422e-a14f-d424ac499956",
   "metadata": {
    "tags": []
   },
   "outputs": [],
   "source": [
    "plate_reordering = {\n",
    "    'plate_0': 'plate_1',\n",
    "    'plate_1': 'plate_2',\n",
    "    'plate_2': 'plate_3',\n",
    "    'plate_3': 'plate_0',\n",
    "    'plate_4': 'plate_4',\n",
    "    'plate_5': 'plate_5',\n",
    "}"
   ]
  },
  {
   "cell_type": "markdown",
   "id": "6005bd17-759f-455d-a6e6-5467d48b3348",
   "metadata": {},
   "source": [
    "## Loading pseudobulked counts from correctly filtered AnnData (@Daniel: delete this section once the fixed RNA expression AnnData is uploaded to Kaggle)"
   ]
  },
  {
   "cell_type": "code",
   "execution_count": 8,
   "id": "375e0d5c-4ab8-482d-b564-dd2e8501bce0",
   "metadata": {
    "tags": []
   },
   "outputs": [],
   "source": [
    "fixed_bulk_adata = sc.read_h5ad('train_or_control_bulk_by_cell_type_adata.h5ad')\n",
    "fixed_bulk_adata.X = fixed_bulk_adata.layers['counts']"
   ]
  },
  {
   "cell_type": "code",
   "execution_count": 9,
   "id": "50901405-846f-461a-a8d8-0f2d93972e88",
   "metadata": {
    "tags": []
   },
   "outputs": [],
   "source": [
    "new_plate_names = bulk_adata.obs['plate_name'].sort_values().unique()\n",
    "original_plate_names = fixed_bulk_adata.obs['plate_name'].sort_values().unique()\n",
    "plate_name_map = dict(zip(original_plate_names, new_plate_names))\n",
    "\n",
    "fixed_bulk_adata.obs['plate_name'] = fixed_bulk_adata.obs['plate_name'].map(plate_name_map)\n",
    "fixed_bulk_adata.obs['plate_name'] = fixed_bulk_adata.obs['plate_name'].map(plate_reordering)"
   ]
  },
  {
   "cell_type": "code",
   "execution_count": 10,
   "id": "96c66380-9539-4069-8ea2-29c9c06555f0",
   "metadata": {
    "tags": []
   },
   "outputs": [],
   "source": [
    "new_donor_ids = bulk_adata.obs['donor_id'].sort_values().unique()\n",
    "original_donor_ids = fixed_bulk_adata.obs['raw_cell_id'].sort_values().unique()\n",
    "donor_id_map = dict(zip(original_donor_ids, new_donor_ids))\n",
    "\n",
    "fixed_bulk_adata.obs['donor_id'] = fixed_bulk_adata.obs['raw_cell_id'].map(donor_id_map)"
   ]
  },
  {
   "cell_type": "code",
   "execution_count": 11,
   "id": "bc2ac7a5-110d-4d46-88bc-deebf6b45d49",
   "metadata": {
    "tags": []
   },
   "outputs": [],
   "source": [
    "lincs_id_mapping_df = pd.read_parquet('lincs_id_compound_mapping.parquet')"
   ]
  },
  {
   "cell_type": "code",
   "execution_count": 12,
   "id": "7423f1d3-8251-4980-822e-2724fb025aef",
   "metadata": {
    "tags": []
   },
   "outputs": [],
   "source": [
    "compound_id_to_sm_lincs_id = lincs_id_mapping_df.set_index('compound_id')['sm_lincs_id'].to_dict()\n",
    "compound_id_to_sm_name = lincs_id_mapping_df.set_index('compound_id')['sm_name'].to_dict()\n",
    "compound_id_to_smiles = lincs_id_mapping_df.set_index('compound_id')['smiles'].to_dict()\n",
    "\n",
    "fixed_bulk_adata.obs['sm_lincs_id'] = \\\n",
    "    fixed_bulk_adata.obs['compound_id'].map(compound_id_to_sm_lincs_id)\n",
    "fixed_bulk_adata.obs['sm_name'] = \\\n",
    "    fixed_bulk_adata.obs['compound_id'].map(compound_id_to_sm_name)\n",
    "fixed_bulk_adata.obs['SMILES'] = \\\n",
    "    fixed_bulk_adata.obs['compound_id'].map(compound_id_to_smiles)"
   ]
  },
  {
   "cell_type": "code",
   "execution_count": 13,
   "id": "d8509799-441f-40e0-bda5-c5d901338b3f",
   "metadata": {
    "tags": []
   },
   "outputs": [],
   "source": [
    "sorted_index = fixed_bulk_adata.obs.sort_values(['plate_name', 'sm_name', 'cell_type']).index\n",
    "fixed_bulk_adata = fixed_bulk_adata[sorted_index].copy()"
   ]
  },
  {
   "cell_type": "code",
   "execution_count": 14,
   "id": "7a50796b-42ab-44c6-8aae-8ed108a07654",
   "metadata": {
    "tags": []
   },
   "outputs": [],
   "source": [
    "sorted_index = bulk_adata.obs.sort_values(['plate_name', 'sm_name', 'cell_type']).index\n",
    "bulk_adata = bulk_adata[sorted_index].copy()"
   ]
  },
  {
   "cell_type": "markdown",
   "id": "86e77749-92c8-45ed-8cca-a651bfafaac2",
   "metadata": {},
   "source": [
    "If the new expression data is uploaded to Kaggle (or placed in `'/home/jovyan/kaggle/input/open-problems-multimodal-2023'` in the correct format), the assertion below should evaluate to True."
   ]
  },
  {
   "cell_type": "code",
   "execution_count": 15,
   "id": "a2d69d82-7972-43f8-8614-ca2a7fd73ebe",
   "metadata": {
    "tags": []
   },
   "outputs": [],
   "source": [
    "bulk_adata.obs['plate_name'] = bulk_adata.obs['plate_name'].map(plate_reordering)"
   ]
  },
  {
   "cell_type": "code",
   "execution_count": 16,
   "id": "c75ec7f1-492f-44fd-940c-f1bf9b23809e",
   "metadata": {
    "tags": []
   },
   "outputs": [],
   "source": [
    "# assert np.allclose(fixed_bulk_adata.X, bulk_adata.X)"
   ]
  },
  {
   "cell_type": "code",
   "execution_count": 17,
   "id": "d1825f50-22ad-4161-8647-29f669f02666",
   "metadata": {
    "tags": []
   },
   "outputs": [],
   "source": [
    "bulk_adata = fixed_bulk_adata.copy()"
   ]
  },
  {
   "cell_type": "markdown",
   "id": "8bced2df-87ca-44c0-a769-4cc46d33ee66",
   "metadata": {},
   "source": [
    "## Running Limma"
   ]
  },
  {
   "cell_type": "code",
   "execution_count": 18,
   "id": "b1e98c2a-73a8-4f9c-b0df-dcf2dd82f757",
   "metadata": {
    "tags": []
   },
   "outputs": [],
   "source": [
    "# bulk_adata.obs['plate_name'] = bulk_adata.obs['plate_name'].map(plate_reordering)"
   ]
  },
  {
   "cell_type": "code",
   "execution_count": 30,
   "id": "ced9d15b-375a-4788-a85d-330fc8f45fb4",
   "metadata": {
    "tags": []
   },
   "outputs": [],
   "source": [
    "de_pert_cols = [\n",
    "    'sm_name',\n",
    "    'sm_lincs_id',\n",
    "    'SMILES',\n",
    "    'dose_uM',\n",
    "    'timepoint_hr',\n",
    "    'cell_type',\n",
    "]\n",
    "\n",
    "control_compound = 'Dimethyl Sulfoxide'"
   ]
  },
  {
   "cell_type": "code",
   "execution_count": 31,
   "id": "4a2e4bec-d83f-4f64-8685-49d7a6136bb0",
   "metadata": {
    "tags": []
   },
   "outputs": [
    {
     "data": {
      "text/plain": [
       "<module 'limma_utils' from '/home/jovyan/workspace/limma_utils.py'>"
      ]
     },
     "execution_count": 31,
     "metadata": {},
     "output_type": "execute_result"
    }
   ],
   "source": [
    "import limma_utils\n",
    "import imp\n",
    "imp.reload(limma_utils)\n"
   ]
  },
  {
   "cell_type": "code",
   "execution_count": 32,
   "id": "a5fe7db4-45cc-4016-bad4-0f1c21575b23",
   "metadata": {
    "tags": []
   },
   "outputs": [],
   "source": [
    "!mkdir -p output"
   ]
  },
  {
   "cell_type": "code",
   "execution_count": 36,
   "id": "fdbd5e73-7286-464c-a676-1ec89bbc43c0",
   "metadata": {
    "tags": []
   },
   "outputs": [],
   "source": [
    "def _run_limma_for_cell_type(bulk_adata, cell_type):\n",
    "    \n",
    "    import limma_utils\n",
    "    bulk_adata = bulk_adata.copy()\n",
    "    \n",
    "    compound_name_col = de_pert_cols[0]\n",
    "    \n",
    "    # limma doesn't like dashes etc. in the compound names\n",
    "    rpert_mapping = bulk_adata.obs[compound_name_col].drop_duplicates() \\\n",
    "        .reset_index(drop=True).reset_index() \\\n",
    "        .set_index(compound_name_col)['index'].to_dict()\n",
    "    \n",
    "    bulk_adata.obs['Rpert'] = bulk_adata.obs.apply(\n",
    "        lambda row: rpert_mapping[row[compound_name_col]], \n",
    "        axis='columns',\n",
    "    ).astype('str')\n",
    "\n",
    "    compound_name_to_Rpert = bulk_adata.obs.set_index(compound_name_col)['Rpert'].to_dict()\n",
    "    ref_pert = compound_name_to_Rpert[control_compound]\n",
    "            \n",
    "    random_string = binascii.b2a_hex(os.urandom(15)).decode()\n",
    "    \n",
    "    \n",
    "    limma_utils.limma_fit(\n",
    "        bulk_adata, \n",
    "        design='~0+Rpert+donor_id+plate_name+row',\n",
    "        y_output_path=f'output/{cell_type}_y.rds',\n",
    "        output_path=f'output/{cell_type}_lmfit.rds',\n",
    "        # plot_output_path=f'output/{cell_type}_voom',\n",
    "        exec_path='limma_fit.r',\n",
    "        verbose=True,\n",
    "    )\n",
    "\n",
    "    pert_de_dfs = []\n",
    "\n",
    "    for pert in bulk_adata.obs['Rpert'].unique():\n",
    "        if pert == ref_pert:\n",
    "            continue\n",
    "\n",
    "        pert_de_df = limma_utils.limma_contrast(\n",
    "            fit_path=f'output/{cell_type}_lmfit.rds',\n",
    "            contrast='Rpert'+pert+'-Rpert'+ref_pert,\n",
    "            exec_path='limma_contrast.r',\n",
    "        )\n",
    "\n",
    "        pert_de_df['Rpert'] = pert\n",
    "\n",
    "        pert_obs = bulk_adata.obs[bulk_adata.obs['Rpert'].eq(pert)]\n",
    "        for col in de_pert_cols:\n",
    "            pert_de_df[col] = pert_obs[col].unique()[0]\n",
    "        pert_de_dfs.append(pert_de_df)\n",
    "\n",
    "    de_df = pd.concat(pert_de_dfs, axis=0)\n",
    "    de_df.to_csv(f'{cell_type}_contrasts.tsv', sep='\\t')\n",
    "    \n",
    "\n",
    "run_limma_for_cell_type = delayed(_run_limma_for_cell_type)"
   ]
  },
  {
   "cell_type": "code",
   "execution_count": 37,
   "id": "f787ab21-5919-4bfc-9783-2894ac7e9f9d",
   "metadata": {
    "tags": []
   },
   "outputs": [],
   "source": [
    "%%capture\n",
    "\n",
    "cluster = LocalCluster(\n",
    "    n_workers=6,\n",
    "    processes=True,\n",
    "    threads_per_worker=1,\n",
    "    memory_limit='20GB',\n",
    ")\n",
    "\n",
    "c = Client(cluster)"
   ]
  },
  {
   "cell_type": "code",
   "execution_count": 38,
   "id": "131333f5-c387-4876-8e76-2ffbfb975990",
   "metadata": {
    "tags": []
   },
   "outputs": [
    {
     "name": "stderr",
     "output_type": "stream",
     "text": [
      "2023-10-17 17:44:59,244 - distributed.worker - WARNING - Compute Failed\n",
      "Key:       _run_limma_for_cell_type-f2e6e721-ba40-4817-ba1b-f1d8418f1378\n",
      "Function:  _run_limma_for_cell_type\n",
      "args:      (AnnData object with n_obs × n_vars = 507 × 18211\n",
      "    obs: 'bio_sample_id', 'cell_type', 'raw_cell_id', 'bio_exp_id', 'raw_plate_name', 'compound_id', 'cell_id', 'plate_name', 'dose_uM', 'pert', 'clt_batch_id', 'hashtag_id', 'library_id', 'compound_batch_id', 'cy_id', 'container_format', 'row', 'cy_batch_id', 'compound_name', 'timepoint_hr', 'clt_id', 'col', 'well', 'plate_id', 'readable_pert', 'split', 'donor_id', 'sm_lincs_id', 'sm_name', 'SMILES'\n",
      "    uns: 'log1p'\n",
      "    layers: 'counts', 'T cells CD8+')\n",
      "kwargs:    {}\n",
      "Exception: \"RuntimeError('Error in limma \\\\n Error message: Error in readRDS(opt$input_fit) : error reading from connection\\\\nExecution halted\\\\n \\\\n \\\\n stdout: output/T cells CD8+_lmfit.rdsRpert105-Rpert22/home/jovyan/.tmp/limma/aljk7auh/contrast_result.csv')\"\n",
      "\n",
      "2023-10-17 17:45:09,061 - distributed.worker - WARNING - Compute Failed\n",
      "Key:       _run_limma_for_cell_type-aa7a3d5c-d188-413d-a3b1-4fb93edb92f3\n",
      "Function:  _run_limma_for_cell_type\n",
      "args:      (AnnData object with n_obs × n_vars = 571 × 18211\n",
      "    obs: 'bio_sample_id', 'cell_type', 'raw_cell_id', 'bio_exp_id', 'raw_plate_name', 'compound_id', 'cell_id', 'plate_name', 'dose_uM', 'pert', 'clt_batch_id', 'hashtag_id', 'library_id', 'compound_batch_id', 'cy_id', 'container_format', 'row', 'cy_batch_id', 'compound_name', 'timepoint_hr', 'clt_id', 'col', 'well', 'plate_id', 'readable_pert', 'split', 'donor_id', 'sm_lincs_id', 'sm_name', 'SMILES'\n",
      "    uns: 'log1p'\n",
      "    layers: 'counts', 'NK cells')\n",
      "kwargs:    {}\n",
      "Exception: \"RuntimeError('Error in limma \\\\n Error message: Error in readRDS(opt$input_fit) : error reading from connection\\\\nExecution halted\\\\n \\\\n \\\\n stdout: output/NK cells_lmfit.rdsRpert106-Rpert27/home/jovyan/.tmp/limma/6wdx9bw2/contrast_result.csv')\"\n",
      "\n",
      "2023-10-17 17:45:09,108 - distributed.worker - WARNING - Compute Failed\n",
      "Key:       _run_limma_for_cell_type-5e5dd727-6ae9-44c8-b604-3b244230b21e\n",
      "Function:  _run_limma_for_cell_type\n",
      "args:      (AnnData object with n_obs × n_vars = 537 × 18211\n",
      "    obs: 'bio_sample_id', 'cell_type', 'raw_cell_id', 'bio_exp_id', 'raw_plate_name', 'compound_id', 'cell_id', 'plate_name', 'dose_uM', 'pert', 'clt_batch_id', 'hashtag_id', 'library_id', 'compound_batch_id', 'cy_id', 'container_format', 'row', 'cy_batch_id', 'compound_name', 'timepoint_hr', 'clt_id', 'col', 'well', 'plate_id', 'readable_pert', 'split', 'donor_id', 'sm_lincs_id', 'sm_name', 'SMILES'\n",
      "    uns: 'log1p'\n",
      "    layers: 'counts', 'T regulatory cells')\n",
      "kwargs:    {}\n",
      "Exception: \"RuntimeError('Error in limma \\\\n Error message: Error in readRDS(opt$input_fit) : error reading from connection\\\\nExecution halted\\\\n \\\\n \\\\n stdout: output/T regulatory cells_lmfit.rdsRpert105-Rpert27/home/jovyan/.tmp/limma/s98uv9os/contrast_result.csv')\"\n",
      "\n",
      "2023-10-17 17:45:15,779 - distributed.worker - WARNING - Compute Failed\n",
      "Key:       _run_limma_for_cell_type-78b1bc35-cd7a-4ab0-9e08-98edc6bbd684\n",
      "Function:  _run_limma_for_cell_type\n",
      "args:      (AnnData object with n_obs × n_vars = 573 × 18211\n",
      "    obs: 'bio_sample_id', 'cell_type', 'raw_cell_id', 'bio_exp_id', 'raw_plate_name', 'compound_id', 'cell_id', 'plate_name', 'dose_uM', 'pert', 'clt_batch_id', 'hashtag_id', 'library_id', 'compound_batch_id', 'cy_id', 'container_format', 'row', 'cy_batch_id', 'compound_name', 'timepoint_hr', 'clt_id', 'col', 'well', 'plate_id', 'readable_pert', 'split', 'donor_id', 'sm_lincs_id', 'sm_name', 'SMILES'\n",
      "    uns: 'log1p'\n",
      "    layers: 'counts', 'T cells CD4+')\n",
      "kwargs:    {}\n",
      "Exception: \"RuntimeError('Error in limma \\\\n Error message: Error in readRDS(opt$input_fit) : error reading from connection\\\\nExecution halted\\\\n \\\\n \\\\n stdout: output/T cells CD4+_lmfit.rdsRpert106-Rpert25/home/jovyan/.tmp/limma/h9_z74nk/contrast_result.csv')\"\n",
      "\n"
     ]
    }
   ],
   "source": [
    "%%capture\n",
    "\n",
    "cell_types = bulk_adata.obs['cell_type'].unique()\n",
    "de_dfs = []\n",
    "\n",
    "for cell_type in cell_types:\n",
    "    cell_type_selection = bulk_adata.obs['cell_type'].eq(cell_type)\n",
    "    cell_type_bulk_adata = bulk_adata[cell_type_selection].copy()\n",
    "    \n",
    "    cell_type_bulk_adata.obs.to_csv(f'meta-{cell_type}.tsv', sep='\\t')\n",
    "    \n",
    "    de_df = run_limma_for_cell_type(cell_type_bulk_adata, cell_type)\n",
    "    \n",
    "    de_dfs.append(de_df)\n",
    "\n",
    "de_dfs = c.compute(de_dfs, sync=True)"
   ]
  },
  {
   "cell_type": "code",
   "execution_count": null,
   "id": "711185a2",
   "metadata": {},
   "outputs": [],
   "source": []
  }
 ],
 "metadata": {
  "kernelspec": {
   "display_name": "saturn (Python 3)",
   "language": "python",
   "name": "python3"
  },
  "language_info": {
   "codemirror_mode": {
    "name": "ipython",
    "version": 3
   },
   "file_extension": ".py",
   "mimetype": "text/x-python",
   "name": "python",
   "nbconvert_exporter": "python",
   "pygments_lexer": "ipython3",
   "version": "3.9.15"
  }
 },
 "nbformat": 4,
 "nbformat_minor": 5
}
